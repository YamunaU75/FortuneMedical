{
 "cells": [
  {
   "cell_type": "markdown",
   "id": "035d5e0e-fad7-44b4-bf38-40118ab13e72",
   "metadata": {},
   "source": [
    "## TensorFlow"
   ]
  },
  {
   "cell_type": "code",
   "execution_count": 2,
   "id": "2510446b-5f99-49b6-958c-e10e2ce160df",
   "metadata": {},
   "outputs": [],
   "source": [
    "# Importing all libraries\n",
    "import pandas as pd\n",
    "import numpy as np\n",
    "\n",
    "import matplotlib.pyplot as plt\n",
    "%matplotlib inline\n",
    "import seaborn as sns\n",
    "\n",
    "import nltk\n",
    "import string\n",
    "import re\n",
    "from nltk.probability import FreqDist\n",
    "from nltk.corpus import stopwords\n",
    "from nltk.tokenize import regexp_tokenize, word_tokenize, RegexpTokenizer\n",
    "from nltk import WordNetLemmatizer\n",
    "from nltk.corpus import wordnet # imports WordNet\n",
    "from nltk import pos_tag\n",
    "from sklearn.feature_extraction.text import TfidfVectorizer, CountVectorizer\n",
    "from sklearn.base import BaseEstimator, TransformerMixin\n",
    "from scipy.sparse import csr_matrix\n",
    "from sklearn.metrics import confusion_matrix\n",
    "from sklearn.metrics import ConfusionMatrixDisplay\n",
    "from sklearn.metrics import classification_report\n",
    "\n",
    "from sklearn.model_selection import train_test_split, RandomizedSearchCV\n",
    "from tensorflow.keras.models import Sequential\n",
    "from tensorflow.keras.layers import Dense, Dropout\n",
    "from tensorflow.keras.callbacks import EarlyStopping\n",
    "from tensorflow.keras.regularizers import l2\n"
   ]
  },
  {
   "cell_type": "code",
   "execution_count": 3,
   "id": "15b3d3de-834f-49fe-b597-e512e3747912",
   "metadata": {},
   "outputs": [],
   "source": [
    "# Opening our dataset through pandas\n",
    "\n",
    "df_train = pd.read_csv(\"data/drugsComTrain_raw.tsv\", delimiter='\\t', encoding = 'utf-8')\n",
    "df_test = pd.read_csv(\"data/drugsComTest_raw.tsv\", delimiter='\\t', encoding = 'utf-8')\n",
    "df = pd.concat([df_train, df_test], axis=0, ignore_index=True)"
   ]
  },
  {
   "cell_type": "code",
   "execution_count": 4,
   "id": "65c0c742-278d-4ee3-b549-aaa73d2fcf20",
   "metadata": {},
   "outputs": [
    {
     "data": {
      "text/html": [
       "<div>\n",
       "<style scoped>\n",
       "    .dataframe tbody tr th:only-of-type {\n",
       "        vertical-align: middle;\n",
       "    }\n",
       "\n",
       "    .dataframe tbody tr th {\n",
       "        vertical-align: top;\n",
       "    }\n",
       "\n",
       "    .dataframe thead th {\n",
       "        text-align: right;\n",
       "    }\n",
       "</style>\n",
       "<table border=\"1\" class=\"dataframe\">\n",
       "  <thead>\n",
       "    <tr style=\"text-align: right;\">\n",
       "      <th></th>\n",
       "      <th>ID</th>\n",
       "      <th>drugName</th>\n",
       "      <th>condition</th>\n",
       "      <th>review</th>\n",
       "      <th>rating</th>\n",
       "      <th>date</th>\n",
       "      <th>usefulCount</th>\n",
       "    </tr>\n",
       "  </thead>\n",
       "  <tbody>\n",
       "    <tr>\n",
       "      <th>0</th>\n",
       "      <td>206461</td>\n",
       "      <td>Valsartan</td>\n",
       "      <td>Left Ventricular Dysfunction</td>\n",
       "      <td>\"It has no side effect, I take it in combinati...</td>\n",
       "      <td>9.0</td>\n",
       "      <td>May 20, 2012</td>\n",
       "      <td>27</td>\n",
       "    </tr>\n",
       "    <tr>\n",
       "      <th>1</th>\n",
       "      <td>95260</td>\n",
       "      <td>Guanfacine</td>\n",
       "      <td>ADHD</td>\n",
       "      <td>\"My son is halfway through his fourth week of ...</td>\n",
       "      <td>8.0</td>\n",
       "      <td>April 27, 2010</td>\n",
       "      <td>192</td>\n",
       "    </tr>\n",
       "    <tr>\n",
       "      <th>2</th>\n",
       "      <td>92703</td>\n",
       "      <td>Lybrel</td>\n",
       "      <td>Birth Control</td>\n",
       "      <td>\"I used to take another oral contraceptive, wh...</td>\n",
       "      <td>5.0</td>\n",
       "      <td>December 14, 2009</td>\n",
       "      <td>17</td>\n",
       "    </tr>\n",
       "    <tr>\n",
       "      <th>3</th>\n",
       "      <td>138000</td>\n",
       "      <td>Ortho Evra</td>\n",
       "      <td>Birth Control</td>\n",
       "      <td>\"This is my first time using any form of birth...</td>\n",
       "      <td>8.0</td>\n",
       "      <td>November 3, 2015</td>\n",
       "      <td>10</td>\n",
       "    </tr>\n",
       "    <tr>\n",
       "      <th>4</th>\n",
       "      <td>35696</td>\n",
       "      <td>Buprenorphine / naloxone</td>\n",
       "      <td>Opiate Dependence</td>\n",
       "      <td>\"Suboxone has completely turned my life around...</td>\n",
       "      <td>9.0</td>\n",
       "      <td>November 27, 2016</td>\n",
       "      <td>37</td>\n",
       "    </tr>\n",
       "  </tbody>\n",
       "</table>\n",
       "</div>"
      ],
      "text/plain": [
       "       ID                  drugName                     condition  \\\n",
       "0  206461                 Valsartan  Left Ventricular Dysfunction   \n",
       "1   95260                Guanfacine                          ADHD   \n",
       "2   92703                    Lybrel                 Birth Control   \n",
       "3  138000                Ortho Evra                 Birth Control   \n",
       "4   35696  Buprenorphine / naloxone             Opiate Dependence   \n",
       "\n",
       "                                              review  rating  \\\n",
       "0  \"It has no side effect, I take it in combinati...     9.0   \n",
       "1  \"My son is halfway through his fourth week of ...     8.0   \n",
       "2  \"I used to take another oral contraceptive, wh...     5.0   \n",
       "3  \"This is my first time using any form of birth...     8.0   \n",
       "4  \"Suboxone has completely turned my life around...     9.0   \n",
       "\n",
       "                date  usefulCount  \n",
       "0       May 20, 2012           27  \n",
       "1     April 27, 2010          192  \n",
       "2  December 14, 2009           17  \n",
       "3   November 3, 2015           10  \n",
       "4  November 27, 2016           37  "
      ]
     },
     "execution_count": 4,
     "metadata": {},
     "output_type": "execute_result"
    }
   ],
   "source": [
    "# renaming column Unnamed: 0 as ID\n",
    "df = df.rename(columns = {'Unnamed: 0': 'ID'})\n",
    "\n",
    "# dropping Nan's for column condition\n",
    "df.dropna(subset = ['condition'], inplace=True)\n",
    "df.head()"
   ]
  },
  {
   "cell_type": "code",
   "execution_count": 5,
   "id": "078e20e4-42bd-4c76-b5db-76fe9e8807c3",
   "metadata": {},
   "outputs": [],
   "source": [
    "# Classifying Target variable as 2 classes: positive_rating (6-10) & negative_rating(0-5)\n",
    "df['rating'] = df['rating'].replace({1.0:0, 2.0:0, 3.0:0, 4.0:0, 5.0:0, 6.0:1, 7.0:1, 8.0:1, 9.0:1, 10.0:1})"
   ]
  },
  {
   "cell_type": "code",
   "execution_count": 6,
   "id": "375de520-c1d2-4072-a319-1efb6d7cd089",
   "metadata": {},
   "outputs": [],
   "source": [
    "# Downsampling method\n",
    "pos_df = df[df['rating']==1]\n",
    "neg_df = df[df['rating']==0]\n"
   ]
  },
  {
   "cell_type": "code",
   "execution_count": 7,
   "id": "dc95386d-0593-4177-bed5-2a5298a3ac6c",
   "metadata": {},
   "outputs": [
    {
     "data": {
      "text/plain": [
       "rating\n",
       "1.0    50000\n",
       "0.0    50000\n",
       "Name: count, dtype: int64"
      ]
     },
     "execution_count": 7,
     "metadata": {},
     "output_type": "execute_result"
    }
   ],
   "source": [
    "sample_size = 50000\n",
    "ds_pos_df = pos_df.sample(n=sample_size, random_state=42)\n",
    "ds_neg_df = neg_df.sample(n=sample_size, random_state=42)\n",
    "\n",
    "# merging 2 datasets\n",
    "balanced2_df = pd.concat([ds_pos_df, ds_neg_df])\n",
    "balanced2_df['rating'].value_counts()"
   ]
  },
  {
   "cell_type": "code",
   "execution_count": 8,
   "id": "7c821762-63eb-48e8-88f5-024333e915cd",
   "metadata": {},
   "outputs": [
    {
     "data": {
      "text/plain": [
       "((70000,), (30000,), (70000,), (30000,))"
      ]
     },
     "execution_count": 8,
     "metadata": {},
     "output_type": "execute_result"
    }
   ],
   "source": [
    "# Train test split\n",
    "X = balanced2_df['review']\n",
    "y= balanced2_df['rating']\n",
    "\n",
    "X_train3, X_test3, y_train3, y_test3 = train_test_split(X,y, test_size=0.3, stratify=y, random_state=42)\n",
    "X_train3.shape, X_test3.shape, y_train3.shape, y_test3.shape"
   ]
  },
  {
   "cell_type": "code",
   "execution_count": 9,
   "id": "47ba7c39-d86a-48e0-b1c4-22e46b4e90c8",
   "metadata": {},
   "outputs": [],
   "source": [
    "class TextPreprocessor(BaseEstimator, TransformerMixin):\n",
    "    def __init__(self):\n",
    "        pass\n",
    "\n",
    "    def fit(self, data, y = 0):\n",
    "        return self\n",
    "\n",
    "    def transform(self, data, y = 0):\n",
    "        normalized_corpus = data.apply(self.process_doc)\n",
    "        return normalized_corpus\n",
    "\n",
    "    def process_doc(self, doc):\n",
    "        lemm = WordNetLemmatizer()\n",
    "        stop_words = stopwords.words('english')\n",
    "        def pos_tagger(nltk_tag):\n",
    "            if nltk_tag.startswith('J'):\n",
    "                return wordnet.ADJ\n",
    "            elif nltk_tag.startswith('V'):\n",
    "                return wordnet.VERB\n",
    "            elif nltk_tag.startswith('N'):\n",
    "                return wordnet.NOUN\n",
    "            elif nltk_tag.startswith('R'):\n",
    "                return wordnet.ADV\n",
    "            else:         \n",
    "                return None\n",
    "        normalized_doc = [token.lower() for token in word_tokenize(doc) if ((token.isalpha()) & (token not in stop_words))]\n",
    "        tagged_tokens = list(map(lambda x: (x[0], pos_tagger(x[1])), pos_tag(normalized_doc)))\n",
    "        normalized_doc = [lemm.lemmatize(token, pos) for token, pos in tagged_tokens if pos is not None]\n",
    "        return \" \".join(normalized_doc)"
   ]
  },
  {
   "cell_type": "code",
   "execution_count": 10,
   "id": "cb51060a-a8c2-4b04-af33-f9987b8c4f83",
   "metadata": {},
   "outputs": [],
   "source": [
    "# preprocessing\n",
    "lemm = TextPreprocessor()\n",
    "X_train3_trans = lemm.fit_transform(X_train3)\n",
    "X_test3_trans = lemm.transform(X_test3)"
   ]
  },
  {
   "cell_type": "code",
   "execution_count": 11,
   "id": "e07a5db4-9abe-49c0-813c-4997a3e109c8",
   "metadata": {},
   "outputs": [],
   "source": [
    "# Vectorizing\n",
    "tfidf = TfidfVectorizer()\n",
    "X_train3_vec = tfidf.fit_transform(X_train3_trans)\n",
    "X_test3_vec = tfidf.transform(X_test3_trans)"
   ]
  },
  {
   "cell_type": "code",
   "execution_count": 12,
   "id": "e091bba8-8964-4d3e-8155-2637bd5926b2",
   "metadata": {},
   "outputs": [],
   "source": [
    "# Assuming X_train3_vec is a SparseTensor object\n",
    "X_train3_dense = csr_matrix.toarray(X_train3_vec)\n",
    "X_test3_dense = csr_matrix.toarray(X_test3_vec)"
   ]
  },
  {
   "cell_type": "code",
   "execution_count": 13,
   "id": "3b039211-82d1-46e8-8da1-aca42152a49a",
   "metadata": {},
   "outputs": [
    {
     "data": {
      "text/plain": [
       "(70000, 28675)"
      ]
     },
     "execution_count": 13,
     "metadata": {},
     "output_type": "execute_result"
    }
   ],
   "source": [
    "X_train3_dense.shape"
   ]
  },
  {
   "cell_type": "code",
   "execution_count": 27,
   "id": "2918725a-3303-45ee-9d3d-bf72e0567eff",
   "metadata": {},
   "outputs": [],
   "source": [
    "n_features = (28675, )\n",
    "reg = l2(3e-3) \n",
    "tensor_med_model = Sequential()\n",
    "tensor_med_model.add(Dense(32, activation='relu', kernel_regularizer = reg, input_shape = (n_features)))\n",
    "tensor_med_model.add(Dense(16, activation='relu', kernel_regularizer = reg))\n",
    "tensor_med_model.add(Dense(8, activation='relu', kernel_regularizer = reg))\n",
    "tensor_med_model.add(Dense(1, activation = 'sigmoid'))"
   ]
  },
  {
   "cell_type": "code",
   "execution_count": 28,
   "id": "c97805a2-54f5-4cf2-a3d0-c658c3f69fa0",
   "metadata": {},
   "outputs": [],
   "source": [
    "# Compile and train your model\n",
    "tensor_med_model.compile(optimizer='Adam', loss='binary_crossentropy', metrics=['accuracy'])\n"
   ]
  },
  {
   "cell_type": "code",
   "execution_count": 29,
   "id": "34bbbf00-d721-4496-99e3-4590afd1e570",
   "metadata": {},
   "outputs": [
    {
     "name": "stdout",
     "output_type": "stream",
     "text": [
      "Epoch 1/10\n",
      "800/800 [==============================] - 67s 78ms/step - loss: 0.6320 - accuracy: 0.7549 - val_loss: 0.5850 - val_accuracy: 0.7887\n",
      "Epoch 2/10\n",
      "800/800 [==============================] - 52s 65ms/step - loss: 0.5827 - accuracy: 0.7828 - val_loss: 0.5776 - val_accuracy: 0.7885\n",
      "Epoch 3/10\n",
      "800/800 [==============================] - 53s 66ms/step - loss: 0.5708 - accuracy: 0.7888 - val_loss: 0.5628 - val_accuracy: 0.7936\n",
      "Epoch 4/10\n",
      "800/800 [==============================] - 55s 69ms/step - loss: 0.5598 - accuracy: 0.7900 - val_loss: 0.5549 - val_accuracy: 0.7926\n",
      "Epoch 5/10\n",
      "800/800 [==============================] - 50s 62ms/step - loss: 0.5523 - accuracy: 0.7915 - val_loss: 0.5470 - val_accuracy: 0.7949\n",
      "Epoch 6/10\n",
      "800/800 [==============================] - 49s 62ms/step - loss: 0.5444 - accuracy: 0.7944 - val_loss: 0.5374 - val_accuracy: 0.7974\n",
      "Epoch 7/10\n",
      "800/800 [==============================] - 51s 64ms/step - loss: 0.5365 - accuracy: 0.7961 - val_loss: 0.5308 - val_accuracy: 0.7996\n",
      "Epoch 8/10\n",
      "800/800 [==============================] - 50s 63ms/step - loss: 0.5275 - accuracy: 0.7993 - val_loss: 0.5305 - val_accuracy: 0.7966\n",
      "Epoch 9/10\n",
      "800/800 [==============================] - 52s 64ms/step - loss: 0.5179 - accuracy: 0.8028 - val_loss: 0.5214 - val_accuracy: 0.8008\n",
      "Epoch 10/10\n",
      "800/800 [==============================] - 50s 62ms/step - loss: 0.5102 - accuracy: 0.8075 - val_loss: 0.5213 - val_accuracy: 0.7981\n"
     ]
    }
   ],
   "source": [
    "trainCallback = EarlyStopping(monitor='loss', min_delta = 1e-6, patience = 5)\n",
    "\n",
    "history_med = tensor_med_model.fit(X_train3_dense, y_train3, epochs=10, batch_size= 70, validation_split=0.2, callbacks=[trainCallback])"
   ]
  },
  {
   "cell_type": "code",
   "execution_count": 30,
   "id": "9e73de68-9549-4ef0-b8e6-d68f180578e8",
   "metadata": {},
   "outputs": [
    {
     "name": "stdout",
     "output_type": "stream",
     "text": [
      "938/938 [==============================] - 57s 60ms/step\n"
     ]
    },
    {
     "data": {
      "text/plain": [
       "array([[0.96440405],\n",
       "       [0.03227028],\n",
       "       [0.5799066 ],\n",
       "       [0.96085465],\n",
       "       [0.9615538 ]], dtype=float32)"
      ]
     },
     "execution_count": 30,
     "metadata": {},
     "output_type": "execute_result"
    }
   ],
   "source": [
    "y_proba = tensor_med_model.predict(X_test3_dense) \n",
    "y_proba[0:5]"
   ]
  },
  {
   "cell_type": "code",
   "execution_count": 31,
   "id": "ae3ebe35-7fd3-4977-bb04-e3f008f00fe3",
   "metadata": {},
   "outputs": [
    {
     "data": {
      "text/plain": [
       "[0.5336005091667175, 0.7889333367347717]"
      ]
     },
     "execution_count": 31,
     "metadata": {},
     "output_type": "execute_result"
    }
   ],
   "source": [
    "# returns loss + results of metrics used\n",
    "tensor_med_model.evaluate(X_test3_dense, y_test3, verbose=0)"
   ]
  },
  {
   "cell_type": "code",
   "execution_count": 32,
   "id": "dc0fe77e-a62f-47c5-9155-0ac7ad4e0f66",
   "metadata": {},
   "outputs": [
    {
     "data": {
      "image/png": "[encoded data removed]",
      "text/plain": [
       "<Figure size 640x480 with 1 Axes>"
      ]
     },
     "metadata": {},
     "output_type": "display_data"
    }
   ],
   "source": [
    "train_med_history = pd.DataFrame(history_med.history)\n",
    "train_med_history.index.name = 'epochs'\n",
    "\n",
    "col_list = ['loss',  'val_loss']\n",
    "train_med_history[col_list].plot()\n",
    "plt.ylabel('Binary cross entropy')\n",
    "plt.title('Training loss history')\n",
    "\n",
    "plt.savefig('training_loss_history.png', dpi=300)\n",
    "\n",
    "plt.show()"
   ]
  },
  {
   "cell_type": "code",
   "execution_count": 33,
   "id": "ebab3b3b-278c-43c2-b336-c7e343b9f23e",
   "metadata": {},
   "outputs": [
    {
     "data": {
      "text/plain": [
       "<Figure size 500x400 with 0 Axes>"
      ]
     },
     "metadata": {},
     "output_type": "display_data"
    },
    {
     "data": {
      "image/png": "[encoded data removed]",
      "text/plain": [
       "<Figure size 640x480 with 1 Axes>"
      ]
     },
     "metadata": {},
     "output_type": "display_data"
    }
   ],
   "source": [
    "col_list = ['accuracy', 'val_accuracy']\n",
    "plt.figure(figsize=(5,4))\n",
    "train_med_history[col_list].plot()\n",
    "\n",
    "plt.ylabel('Accuracy')\n",
    "plt.title('Training loss history')\n",
    "\n",
    "plt.savefig('training_accuracy_history.png', dpi=300)\n",
    "\n",
    "plt.show()"
   ]
  },
  {
   "cell_type": "code",
   "execution_count": 45,
   "id": "8c64b845-77bd-423b-ac26-e310ec215ae6",
   "metadata": {},
   "outputs": [
    {
     "name": "stdout",
     "output_type": "stream",
     "text": [
      "(30000, 1)\n"
     ]
    }
   ],
   "source": [
    "# setting threshold as 0.5 to distinguish positive and negative ratings. \n",
    "\n",
    "threshold = 0.5\n",
    "predicted = (y_proba> threshold).astype(int)\n",
    "print(predicted.shape)\n"
   ]
  },
  {
   "cell_type": "code",
   "execution_count": 47,
   "id": "15fc3130-7ae0-4db4-afce-258d784bf6db",
   "metadata": {},
   "outputs": [
    {
     "data": {
      "image/png": "[encoded data removed]",
      "text/plain": [
       "<Figure size 640x480 with 2 Axes>"
      ]
     },
     "metadata": {},
     "output_type": "display_data"
    }
   ],
   "source": [
    "cm_digits = confusion_matrix(y_test3, predicted)\n",
    "disp = ConfusionMatrixDisplay(\n",
    "    confusion_matrix=cm_digits)\n",
    "\n",
    "disp.plot(cmap=plt.cm.Blues)\n",
    "plt.savefig('confusion_matrix_tensor.png', dpi=300)\n",
    "plt.show()"
   ]
  },
  {
   "cell_type": "markdown",
   "id": "562d04d8-b889-48ee-826f-83dfcc757ccd",
   "metadata": {},
   "source": [
    "Tensorflow model scored accuracy of 78.8, not better than our Stacking model. Model without regularization had overfitting issue, training data\n",
    "was performing best and test data was doing worse. Regularization fixed this issue, and after adding extra hidden layers, we reached accuracy score \n",
    "for our test data 78.8."
   ]
  }
 ],
 "metadata": {
  "kernelspec": {
   "display_name": "Python (tf_env)",
   "language": "python",
   "name": "tf_env"
  },
  "language_info": {
   "codemirror_mode": {
    "name": "ipython",
    "version": 3
   },
   "file_extension": ".py",
   "mimetype": "text/x-python",
   "name": "python",
   "nbconvert_exporter": "python",
   "pygments_lexer": "ipython3",
   "version": "3.8.18"
  }
 },
 "nbformat": 4,
 "nbformat_minor": 5
}
